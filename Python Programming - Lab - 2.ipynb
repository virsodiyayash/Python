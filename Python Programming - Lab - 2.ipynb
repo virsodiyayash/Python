{
 "cells": [
  {
   "cell_type": "markdown",
   "metadata": {},
   "source": [
    "\n",
    "<a href='https://www.darshan.ac.in/'> <img src='https://www.darshan.ac.in/Content/media/DU_Logo.svg' width=\"250\" height=\"300\"/></a>\n",
    "<pre>\n",
    "<center><b><h1>Python Programming - 2301CS404</b></center>\n",
    "<center><b><h1>Lab - 2</b></center>    \n",
    "<pre>"
   ]
  },
  {
   "cell_type": "markdown",
   "metadata": {},
   "source": [
    "# if..else.."
   ]
  },
  {
   "cell_type": "markdown",
   "metadata": {},
   "source": [
    "### 01) WAP to check whether the given number is positive or negative."
   ]
  },
  {
   "cell_type": "code",
   "execution_count": 7,
   "metadata": {},
   "outputs": [
    {
     "name": "stdin",
     "output_type": "stream",
     "text": [
      "Enter the number :  0\n"
     ]
    },
    {
     "name": "stdout",
     "output_type": "stream",
     "text": [
      "Number is zero\n"
     ]
    }
   ],
   "source": [
    "number = int(input(\"Enter the number : \"))\n",
    "if(number > 0):\n",
    "        print(\"Number is positive\")\n",
    "\n",
    "elif(number < 0):\n",
    "        print(\"Number is negative\")\n",
    "\n",
    "else:\n",
    "    print(\"Number is zero\")"
   ]
  },
  {
   "cell_type": "markdown",
   "metadata": {},
   "source": [
    "### 02) WAP to check whether the given number is odd or even."
   ]
  },
  {
   "cell_type": "code",
   "execution_count": 11,
   "metadata": {},
   "outputs": [
    {
     "name": "stdin",
     "output_type": "stream",
     "text": [
      "Enter the number :  1\n"
     ]
    },
    {
     "name": "stdout",
     "output_type": "stream",
     "text": [
      "Number is odd\n"
     ]
    }
   ],
   "source": [
    "num = int(input(\"Enter the number : \"))\n",
    "\n",
    "if(num % 2 == 0):\n",
    "    print(\"Number is even\")\n",
    "\n",
    "else:\n",
    "    print(\"Number is odd\")"
   ]
  },
  {
   "cell_type": "markdown",
   "metadata": {},
   "source": [
    "### 03) WAP to find out largest number from given two numbers using simple if and ternary operator."
   ]
  },
  {
   "cell_type": "code",
   "execution_count": 13,
   "metadata": {},
   "outputs": [
    {
     "name": "stdin",
     "output_type": "stream",
     "text": [
      "Enter the first number 5\n",
      "Enter the second number 4\n"
     ]
    },
    {
     "name": "stdout",
     "output_type": "stream",
     "text": [
      "Largest number is :  5\n"
     ]
    }
   ],
   "source": [
    "n1 = int(input(\"Enter the first number\"))\n",
    "n2 = int(input(\"Enter the second number\"))\n",
    "\n",
    "if n1 > n2:\n",
    "    print(\"Largest number is : \",n1)\n",
    "\n",
    "else:\n",
    "    print(\"Largest number is : \",n2)"
   ]
  },
  {
   "cell_type": "code",
   "execution_count": 15,
   "metadata": {},
   "outputs": [
    {
     "name": "stdin",
     "output_type": "stream",
     "text": [
      "Enter the first number 5\n",
      "Enter the second number 3\n"
     ]
    },
    {
     "name": "stdout",
     "output_type": "stream",
     "text": [
      "Number 1 is largest  5\n"
     ]
    }
   ],
   "source": [
    "nu1 = int(input(\"Enter the first number\"))\n",
    "nu2 = int(input(\"Enter the second number\"))\n",
    "\n",
    "print(\"Number 1 is largest \" , nu1) if nu1 > nu2 else print(\"Number 1 is largest \" , nu2)"
   ]
  },
  {
   "cell_type": "markdown",
   "metadata": {},
   "source": [
    "### 04) WAP to find out largest number from given three numbers."
   ]
  },
  {
   "cell_type": "code",
   "execution_count": 21,
   "metadata": {},
   "outputs": [
    {
     "name": "stdin",
     "output_type": "stream",
     "text": [
      "Enter the number 1 :  6\n",
      "Enter the number 2 :  2\n",
      "Enter the number 3 :  3\n"
     ]
    },
    {
     "name": "stdout",
     "output_type": "stream",
     "text": [
      "Number 1 is largest :  6\n"
     ]
    }
   ],
   "source": [
    "num1 = int(input(\"Enter the number 1 : \"))\n",
    "num2 = int(input(\"Enter the number 2 : \"))\n",
    "num3 = int(input(\"Enter the number 3 : \"))\n",
    "\n",
    "if num1 > num2:\n",
    "    if num1 > num3:\n",
    "        print(\"Number 1 is largest : \",num1)\n",
    "    else:\n",
    "        print(\"Number 3 is largest : \",num3)\n",
    "\n",
    "else:\n",
    "    if num2 > num3:\n",
    "        print(\"Number 2 is largest : \",num2)\n",
    "    else:\n",
    "        print(\"Number 3 is largest : \",num3)"
   ]
  },
  {
   "cell_type": "markdown",
   "metadata": {},
   "source": [
    "### 05) WAP to check whether the given year is leap year or not.\n",
    "[If a year can be divisible by 4 but not divisible by 100 then it is leap year but if it is divisible by 400 then it is leap year]"
   ]
  },
  {
   "cell_type": "code",
   "execution_count": 25,
   "metadata": {},
   "outputs": [
    {
     "name": "stdin",
     "output_type": "stream",
     "text": [
      "Enter the year :  300\n"
     ]
    },
    {
     "name": "stdout",
     "output_type": "stream",
     "text": [
      "Year is not leap year\n"
     ]
    }
   ],
   "source": [
    "year = int(input(\"Enter the year : \"))\n",
    "\n",
    "if year % 4 == 0 and (year % 100 != 0 or year % 400 == 0):\n",
    "    print(\"Year is leap year\")\n",
    "\n",
    "else:\n",
    "    print(\"Year is not leap year\")\n"
   ]
  },
  {
   "cell_type": "markdown",
   "metadata": {},
   "source": [
    "### 06) WAP in python to display the name of the day according to the number given by the user."
   ]
  },
  {
   "cell_type": "code",
   "execution_count": 29,
   "metadata": {},
   "outputs": [
    {
     "name": "stdin",
     "output_type": "stream",
     "text": [
      "Enter the number for the day 0\n"
     ]
    },
    {
     "name": "stdout",
     "output_type": "stream",
     "text": [
      "Sunday\n"
     ]
    }
   ],
   "source": [
    "day = int(input(\"Enter the number for the day\"))\n",
    "\n",
    "if day % 7 == 0:\n",
    "    print(\"Sunday\")\n",
    "\n",
    "elif day % 7 == 1:\n",
    "    print(\"Monday\")\n",
    "\n",
    "elif day % 7 == 2:\n",
    "    print(\"Tuesday\")\n",
    "\n",
    "elif day % 7 == 3:\n",
    "    print(\"Wednesday\")\n",
    "\n",
    "elif day % 7 == 4:\n",
    "    print(\"Thursday\")\n",
    "\n",
    "elif day % 7 == 5:\n",
    "    print(\"Friday\")\n",
    "\n",
    "elif day % 7 == 6:\n",
    "    print(\"Saturday\")"
   ]
  },
  {
   "cell_type": "markdown",
   "metadata": {},
   "source": [
    "### 07) WAP to implement simple calculator which performs (add,sub,mul,div) of two no. based on user input."
   ]
  },
  {
   "cell_type": "code",
   "execution_count": 33,
   "metadata": {},
   "outputs": [
    {
     "name": "stdin",
     "output_type": "stream",
     "text": [
      "Enter first number :  4\n",
      "Enter second number :  2\n",
      "Please enter a character: -\n"
     ]
    },
    {
     "name": "stdout",
     "output_type": "stream",
     "text": [
      "The subtraction is :  2\n"
     ]
    }
   ],
   "source": [
    "a = int(input(\"Enter first number : \"))\n",
    "b = int(input(\"Enter second number : \"))\n",
    "\n",
    "sign = input('Please enter a operator :')[0]\n",
    "\n",
    "if sign == '+':\n",
    "    print(\"The sum is : \" , a + b)\n",
    "\n",
    "elif sign == '-':\n",
    "    print(\"The subtraction is : \" , a - b)\n",
    "\n",
    "elif sign == '*':\n",
    "    print(\"The multiplication is : \", a * b)\n",
    "\n",
    "elif sign == '/':\n",
    "    print(\"The division is : \" , a / b)\n",
    "\n"
   ]
  },
  {
   "cell_type": "markdown",
   "metadata": {},
   "source": [
    "### 08) WAP to read marks of five subjects. Calculate percentage and print class accordingly. \n",
    "Fail below 35 </br>\n",
    "Pass Class between 35 to 45 </br>\n",
    "Second Class</br>\n",
    "between 45 to 60</br>\n",
    "First Class between 60 to 70</br> \n",
    "Distinction if more than 70"
   ]
  },
  {
   "cell_type": "code",
   "execution_count": 41,
   "metadata": {},
   "outputs": [
    {
     "name": "stdin",
     "output_type": "stream",
     "text": [
      "Enter marks of subject 1 :  8\n",
      "Enter marks of subject 2 :  8\n",
      "Enter marks of subject 3 :  8\n",
      "Enter marks of subject 4 :  8\n",
      "Enter marks of subject 5 :  8\n"
     ]
    },
    {
     "name": "stdout",
     "output_type": "stream",
     "text": [
      "Fail , Your percentage is :  8.0\n"
     ]
    }
   ],
   "source": [
    "mark1 = float(input(\"Enter marks of subject 1 : \"))\n",
    "mark2 = float(input(\"Enter marks of subject 2 : \"))\n",
    "mark3 = float(input(\"Enter marks of subject 3 : \"))\n",
    "mark4 = float(input(\"Enter marks of subject 4 : \"))\n",
    "mark5 = float(input(\"Enter marks of subject 5 : \"))\n",
    "\n",
    "percentage = (100 * (mark1 + mark2 + mark3 + mark4 + mark5))/500\n",
    "\n",
    "if percentage < 35:\n",
    "    print(\"Fail , Your percentage is : \" , percentage)\n",
    "\n",
    "elif percentage >= 35 and percentage < 45:\n",
    "    print(\"Pass class , Your percentage is : \" , percentage)\n",
    "\n",
    "elif percentage >= 45 and percentage < 60:\n",
    "    print(\"Second class , Your percentage is : \" , percentage)\n",
    "\n",
    "elif percentage >= 60 and percentage < 70:\n",
    "    print(\"First class , Your percentage is : \" , percentage)\n",
    "\n",
    "else:\n",
    "    print(\"Distinction , Your percentage is : \" , percentage)"
   ]
  },
  {
   "cell_type": "markdown",
   "metadata": {},
   "source": [
    "### 09) Three sides of a triangle are entered through the keyboard, WAP to check whether the triangle is isosceles, equilateral, scalene or right-angled triangle."
   ]
  },
  {
   "cell_type": "code",
   "execution_count": 43,
   "metadata": {},
   "outputs": [
    {
     "name": "stdin",
     "output_type": "stream",
     "text": [
      "Enter the side 1 of triangle :  3\n",
      "Enter the side 2 of triangle :  4\n",
      "Enter the side 3 of triangle :  5\n"
     ]
    },
    {
     "name": "stdout",
     "output_type": "stream",
     "text": [
      "Scalane Triangle\n",
      "It is also right angle triangle\n"
     ]
    }
   ],
   "source": [
    "side1 = int(input(\"Enter the side 1 of triangle : \"))\n",
    "side2 = int(input(\"Enter the side 2 of triangle : \"))\n",
    "side3 = int(input(\"Enter the side 3 of triangle : \"))\n",
    "\n",
    "if side1 == side2 == side3:\n",
    "    print(\"Equilateral triangle\")\n",
    "\n",
    "elif side1 != side2 != side3:\n",
    "    print(\"Scalane Triangle\")\n",
    "\n",
    "else:\n",
    "    print(\"Isosceles Triangle\")\n",
    "\n",
    "if side1**2 + side2**2 == side3**2 or side2**2 + side3**2 == side3**1 or side1**2 + side3**2 == side2**2:\n",
    "    print(\"It is also right angle triangle\")\n",
    "\n"
   ]
  },
  {
   "cell_type": "markdown",
   "metadata": {},
   "source": [
    "### 10) WAP to find the second largest number among three user input numbers."
   ]
  },
  {
   "cell_type": "code",
   "execution_count": 58,
   "metadata": {},
   "outputs": [
    {
     "name": "stdin",
     "output_type": "stream",
     "text": [
      "Enter the number 1 :  5\n",
      "Enter the number 2 :  3\n",
      "Enter the number 3 :  7\n"
     ]
    },
    {
     "name": "stdout",
     "output_type": "stream",
     "text": [
      "Second largest number is :  5\n"
     ]
    }
   ],
   "source": [
    "p = int(input(\"Enter the number 1 : \"))\n",
    "q = int(input(\"Enter the number 2 : \"))\n",
    "r = int(input(\"Enter the number 3 : \"))\n",
    "\n",
    "if p>q:\n",
    "    if p>r:\n",
    "        if q>r:\n",
    "           print(\"Second largest number is : \" , q)\n",
    "        else:\n",
    "            print(\"Seecond largest number is : \" , r)\n",
    "    else:\n",
    "        print(\"Second largest number is : \" , p)\n",
    "\n",
    "else:\n",
    "    if q>r:\n",
    "        if p>r:\n",
    "            print(\"Second largest number is : \" , p)\n",
    "        else:\n",
    "            print(\"Second largest nuumber is : \" , r)\n",
    "    else:\n",
    "        print(\"Second largest number is : \" , q)"
   ]
  },
  {
   "cell_type": "markdown",
   "metadata": {},
   "source": [
    "### 11) WAP to calculate electricity bill based on following criteria. Which takes the unit from the user.\n",
    "a. First 1 to 50 units – Rs. 2.60/unit</br>\n",
    "b. Next 50 to 100 units – Rs. 3.25/unit</br>\n",
    "c. Next 100 to 200 units – Rs. 5.26/unit</br>\n",
    "d. above 200 units – Rs. 8.45/unit"
   ]
  },
  {
   "cell_type": "code",
   "execution_count": 66,
   "metadata": {},
   "outputs": [
    {
     "name": "stdin",
     "output_type": "stream",
     "text": [
      "Enter the unit:  50\n"
     ]
    },
    {
     "name": "stdout",
     "output_type": "stream",
     "text": [
      "The total bill is: 130.0\n"
     ]
    }
   ],
   "source": [
    "unit = float(input(\"Enter the unit: \"))\n",
    "bill = 0\n",
    "\n",
    "if unit <= 50:\n",
    "    bill = unit * 2.60\n",
    "elif unit <= 100:\n",
    "    bill = (50 * 2.60) + ((unit - 50) * 3.25)\n",
    "elif unit <= 200:\n",
    "    bill = (50 * 2.60) + (50 * 3.25) + ((unit - 100) * 5.26)\n",
    "else:\n",
    "    bill = (50 * 2.60) + (50 * 3.25) + (100 * 5.26) + ((unit - 200) * 8.45)\n",
    "\n",
    "print(\"The total bill is:\", bill)\n"
   ]
  },
  {
   "cell_type": "code",
   "execution_count": null,
   "metadata": {},
   "outputs": [],
   "source": []
  }
 ],
 "metadata": {
  "kernelspec": {
   "display_name": "Python 3 (ipykernel)",
   "language": "python",
   "name": "python3"
  },
  "language_info": {
   "codemirror_mode": {
    "name": "ipython",
    "version": 3
   },
   "file_extension": ".py",
   "mimetype": "text/x-python",
   "name": "python",
   "nbconvert_exporter": "python",
   "pygments_lexer": "ipython3",
   "version": "3.12.7"
  }
 },
 "nbformat": 4,
 "nbformat_minor": 4
}
