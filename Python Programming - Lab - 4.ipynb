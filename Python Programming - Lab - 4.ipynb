{
 "cells": [
  {
   "cell_type": "markdown",
   "metadata": {},
   "source": [
    "\n",
    "<a href='https://www.darshan.ac.in/'> <img src='https://www.darshan.ac.in/Content/media/DU_Logo.svg' width=\"250\" height=\"300\"/></a>\n",
    "<pre>\n",
    "<center><b><h1>Python Programming - 2301CS404</b></center>\n",
    "<center><b><h1>Lab - 4</b></center>    \n",
    "<pre>"
   ]
  },
  {
   "cell_type": "markdown",
   "metadata": {},
   "source": [
    "# String"
   ]
  },
  {
   "cell_type": "markdown",
   "metadata": {},
   "source": [
    "### 01) WAP to check whether the given string is palindrome or not."
   ]
  },
  {
   "cell_type": "code",
   "execution_count": 1,
   "metadata": {},
   "outputs": [
    {
     "name": "stdin",
     "output_type": "stream",
     "text": [
      "Enter the string :  abcba\n"
     ]
    },
    {
     "name": "stdout",
     "output_type": "stream",
     "text": [
      "Given String is palindrome\n"
     ]
    }
   ],
   "source": [
    "string = input(\"Enter the string : \")\n",
    "\n",
    "if string == string[::-1]:\n",
    "    print(\"Given String is palindrome\")\n",
    "else:\n",
    "    print(\"String is not palindrome\")"
   ]
  },
  {
   "cell_type": "markdown",
   "metadata": {},
   "source": [
    "### 02) WAP to reverse the words in the given string."
   ]
  },
  {
   "cell_type": "code",
   "execution_count": 3,
   "metadata": {},
   "outputs": [
    {
     "name": "stdin",
     "output_type": "stream",
     "text": [
      "Enter the string :  hgv jhg \n"
     ]
    },
    {
     "name": "stdout",
     "output_type": "stream",
     "text": [
      " jhg hgv\n"
     ]
    }
   ],
   "source": [
    "str = input(\"Enter the string : \")\n",
    "\n",
    "l1 = str.split(' ')[::-1]\n",
    "\n",
    "ans = ' '.join(l1)\n",
    "\n",
    "print(ans)\n",
    "\n",
    "\n",
    "    "
   ]
  },
  {
   "cell_type": "code",
   "execution_count": 11,
   "metadata": {},
   "outputs": [
    {
     "name": "stdin",
     "output_type": "stream",
     "text": [
      "Enter the string :  yash virsodiya\n"
     ]
    },
    {
     "name": "stdout",
     "output_type": "stream",
     "text": [
      "hsay ayidosriv\n"
     ]
    }
   ],
   "source": [
    "st = input(\"Enter the string : \")\n",
    "\n",
    "l2 = st.split(' ')\n",
    "\n",
    "l3 = []\n",
    "index = 0\n",
    "for i in l2:\n",
    "    l2[index]  = i[::-1]\n",
    "    index = index + 1\n",
    "\n",
    "answer = ' '.join(l2)\n",
    "\n",
    "print(answer)\n",
    "\n",
    "\n"
   ]
  },
  {
   "cell_type": "markdown",
   "metadata": {},
   "source": [
    "### 03) WAP to remove ith character from given string."
   ]
  },
  {
   "cell_type": "code",
   "execution_count": 17,
   "metadata": {},
   "outputs": [
    {
     "name": "stdin",
     "output_type": "stream",
     "text": [
      "Enter the string :  0123456789\n",
      "Enter the index :  4\n"
     ]
    },
    {
     "name": "stdout",
     "output_type": "stream",
     "text": [
      "012356789\n"
     ]
    }
   ],
   "source": [
    "string = input(\"Enter the string : \")\n",
    "index = int(input(\"Enter the index : \"))\n",
    "\n",
    "answerString = string[:index] + string[index+1:]\n",
    "print(answerString)\n",
    "\n",
    "\n",
    "    "
   ]
  },
  {
   "cell_type": "markdown",
   "metadata": {},
   "source": [
    "### 04) WAP to find length of string without using len function."
   ]
  },
  {
   "cell_type": "code",
   "execution_count": 18,
   "metadata": {},
   "outputs": [
    {
     "name": "stdin",
     "output_type": "stream",
     "text": [
      "Enter the string :  123456789\n"
     ]
    },
    {
     "name": "stdout",
     "output_type": "stream",
     "text": [
      "The length of the string is : 9\n"
     ]
    }
   ],
   "source": [
    "string = input(\"Enter the string : \")\n",
    "count = 0\n",
    "\n",
    "for i in string:\n",
    "    count = count + 1\n",
    "\n",
    "print(f\"The length of the string is : {count}\")\n",
    "    \n",
    "    "
   ]
  },
  {
   "cell_type": "markdown",
   "metadata": {},
   "source": [
    "### 05) WAP to print even length word in string."
   ]
  },
  {
   "cell_type": "code",
   "execution_count": 20,
   "metadata": {},
   "outputs": [
    {
     "name": "stdin",
     "output_type": "stream",
     "text": [
      "enter the string :  yash patel helo hi\n"
     ]
    },
    {
     "name": "stdout",
     "output_type": "stream",
     "text": [
      "yash helo hi "
     ]
    }
   ],
   "source": [
    "string = input(\"enter the string : \")\n",
    "\n",
    "l1 = string.split()\n",
    "count = 0\n",
    "ans = ''\n",
    "\n",
    "for i in l1:\n",
    "    if(len(i) % 2 == 0):\n",
    "        print(i , end = ' ')\n"
   ]
  },
  {
   "cell_type": "markdown",
   "metadata": {},
   "source": [
    "### 06) WAP to count numbers of vowels in given string."
   ]
  },
  {
   "cell_type": "code",
   "execution_count": 23,
   "metadata": {},
   "outputs": [
    {
     "name": "stdin",
     "output_type": "stream",
     "text": [
      "Enter the string :  yash\n"
     ]
    },
    {
     "name": "stdout",
     "output_type": "stream",
     "text": [
      "The vowels are in the string are 1\n"
     ]
    }
   ],
   "source": [
    "string = input(\"Enter the string : \")\n",
    "string = string.lower()\n",
    "count = 0\n",
    "\n",
    "for i in range(len(string)):\n",
    "    if(string[i] == 'a' or string[i] == 'e' or string[i] == 'i' or string[i] == 'o' or string[i] == 'u'):\n",
    "        count = count + 1\n",
    "\n",
    "print(f'The vowels are in the string are {count}')"
   ]
  },
  {
   "cell_type": "markdown",
   "metadata": {},
   "source": [
    "### 07) WAP to capitalize the first and last character of each word in a string."
   ]
  },
  {
   "cell_type": "code",
   "execution_count": 27,
   "metadata": {},
   "outputs": [
    {
     "name": "stdin",
     "output_type": "stream",
     "text": [
      "Enter the string :  bfejkfb fkjsdabf kjsdff\n"
     ]
    },
    {
     "name": "stdout",
     "output_type": "stream",
     "text": [
      "BfejkfB FkjsdabF KjsdfF\n"
     ]
    }
   ],
   "source": [
    "string = input(\"Enter the string : \")\n",
    "\n",
    "l1 = string.split()\n",
    "\n",
    "new_str = \"\"\n",
    "temp = []\n",
    "\n",
    "for i in l1:\n",
    "    # new_str += \" \" + i[:-1].title() + i[-1].upper()\n",
    "    temp.append(i[:-1].title() + i[-1].upper())\n",
    "\n",
    "print(\" \".join(temp))\n",
    "    "
   ]
  },
  {
   "cell_type": "markdown",
   "metadata": {},
   "source": [
    "### 08) WAP to convert given array to string."
   ]
  },
  {
   "cell_type": "code",
   "execution_count": 31,
   "metadata": {},
   "outputs": [
    {
     "name": "stdout",
     "output_type": "stream",
     "text": [
      "Hello kaise ho\n"
     ]
    }
   ],
   "source": [
    "l1 = [\"Hello\" , \"kaise\" , \"ho\"]\n",
    "string = ' '.join(l1)\n",
    "\n",
    "print(string)"
   ]
  },
  {
   "cell_type": "markdown",
   "metadata": {},
   "source": [
    "### 09) Check if the password and confirm password is same or not. \n",
    "### In case of only case's mistake, show the error message."
   ]
  },
  {
   "cell_type": "code",
   "execution_count": 30,
   "metadata": {},
   "outputs": [
    {
     "name": "stdin",
     "output_type": "stream",
     "text": [
      "Enter the password :  abcd\n",
      "Enter the confirm password :  ABCD\n"
     ]
    },
    {
     "name": "stdout",
     "output_type": "stream",
     "text": [
      "Your password has some case's mistake\n"
     ]
    }
   ],
   "source": [
    "password = input(\"Enter the password : \")\n",
    "confirmPassword = input(\"Enter the confirm password : \")\n",
    "\n",
    "if(password == confirmPassword):\n",
    "    print(\"The password is correct\")\n",
    "elif(password.lower() == confirmPassword.lower()):\n",
    "    print(\"Your password has some case's mistake\")\n",
    "else:\n",
    "    print(\"You entered incorrect password, please entr right password\")"
   ]
  },
  {
   "cell_type": "markdown",
   "metadata": {},
   "source": [
    "### 10) : Display credit card number. \n",
    "### card no. : 1234 5678 9012 3456\n",
    "### display as  : **** **** **** 3456"
   ]
  },
  {
   "cell_type": "code",
   "execution_count": 32,
   "metadata": {},
   "outputs": [
    {
     "name": "stdin",
     "output_type": "stream",
     "text": [
      "Enter the string :  1234 1234 1234 1234\n"
     ]
    },
    {
     "name": "stdout",
     "output_type": "stream",
     "text": [
      "**** **** **** 1234\n"
     ]
    }
   ],
   "source": [
    "string = input(\"Enter the string : \")\n",
    "ans = ''\n",
    "\n",
    "for i in range(len(string)-4):\n",
    "    if(string[i].isnumeric()):\n",
    "        ans = ans + '*'\n",
    "    else:\n",
    "        ans = ans + ' '\n",
    "\n",
    "ans = ans + string[-4:]\n",
    "\n",
    "print(ans)\n",
    "        "
   ]
  },
  {
   "cell_type": "markdown",
   "metadata": {},
   "source": [
    "### 11) : Checking if the two strings are Anagram or not.\n",
    "### s1 = decimal and s2 = medical are Anagram"
   ]
  },
  {
   "cell_type": "code",
   "execution_count": 34,
   "metadata": {},
   "outputs": [
    {
     "name": "stdin",
     "output_type": "stream",
     "text": [
      "Enter the string 1 :  decimal\n",
      "enter the string 2 :  medical\n"
     ]
    },
    {
     "name": "stdout",
     "output_type": "stream",
     "text": [
      "Given both string are anagram\n"
     ]
    }
   ],
   "source": [
    "string1 = input(\"Enter the string 1 : \")\n",
    "string2 = input(\"enter the string 2 : \")\n",
    "\n",
    "if sorted(string1.replace(' ' , '').lower()) == sorted(string2.replace(' ' , '').lower()):\n",
    "    print(\"Given both string are anagram\")\n",
    "else:\n",
    "    print(\"Strings are not anagram\")"
   ]
  },
  {
   "cell_type": "markdown",
   "metadata": {},
   "source": [
    "### 12) : Rearrange the given string. First lowercase then uppercase alphabets.\n",
    "### input : EHlsarwiwhtwMV\n",
    "### output : lsarwiwhtwEHMV"
   ]
  },
  {
   "cell_type": "code",
   "execution_count": 35,
   "metadata": {},
   "outputs": [
    {
     "name": "stdin",
     "output_type": "stream",
     "text": [
      "Enter the string :  EHlsarwiwhtwMV\n"
     ]
    },
    {
     "name": "stdout",
     "output_type": "stream",
     "text": [
      "lsarwiwhtwEHMV\n"
     ]
    }
   ],
   "source": [
    "string = input(\"Enter the string : \")\n",
    "\n",
    "ans = ''\n",
    "upper = ''\n",
    "\n",
    "for i in string:\n",
    "    if i.isupper():\n",
    "        upper = upper + i\n",
    "    else:\n",
    "        ans = ans + i\n",
    "\n",
    "ans = ans + upper\n",
    "print(ans)"
   ]
  }
 ],
 "metadata": {
  "kernelspec": {
   "display_name": "Python 3 (ipykernel)",
   "language": "python",
   "name": "python3"
  },
  "language_info": {
   "codemirror_mode": {
    "name": "ipython",
    "version": 3
   },
   "file_extension": ".py",
   "mimetype": "text/x-python",
   "name": "python",
   "nbconvert_exporter": "python",
   "pygments_lexer": "ipython3",
   "version": "3.13.1"
  },
  "vscode": {
   "interpreter": {
    "hash": "31f2aee4e71d21fbe5cf8b01ff0e069b9275f58929596ceb00d14d90e3e16cd6"
   }
  }
 },
 "nbformat": 4,
 "nbformat_minor": 4
}
