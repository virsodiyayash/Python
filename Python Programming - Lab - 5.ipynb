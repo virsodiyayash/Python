{
 "cells": [
  {
   "cell_type": "markdown",
   "metadata": {},
   "source": [
    "\n",
    "<a href='https://www.darshan.ac.in/'> <img src='https://www.darshan.ac.in/Content/media/DU_Logo.svg' width=\"250\" height=\"300\"/></a>\n",
    "<pre>\n",
    "<center><b><h1>Python Programming - 2301CS404</b></center>\n",
    "<center><b><h1>Lab - 5</b></center>    \n",
    "<pre>"
   ]
  },
  {
   "cell_type": "markdown",
   "metadata": {},
   "source": [
    "# List"
   ]
  },
  {
   "cell_type": "markdown",
   "metadata": {},
   "source": [
    "### 01) WAP to find sum of all the elements in a List."
   ]
  },
  {
   "cell_type": "code",
   "execution_count": 2,
   "metadata": {},
   "outputs": [
    {
     "name": "stdout",
     "output_type": "stream",
     "text": [
      "15\n"
     ]
    }
   ],
   "source": [
    "listDemo = [1 , 2 , 3 , 4 , 5]\n",
    "\n",
    "print(sum(listDemo))"
   ]
  },
  {
   "cell_type": "markdown",
   "metadata": {},
   "source": [
    "### 02) WAP to find largest element in a List."
   ]
  },
  {
   "cell_type": "code",
   "execution_count": 4,
   "metadata": {},
   "outputs": [
    {
     "name": "stdout",
     "output_type": "stream",
     "text": [
      "5\n",
      "The largest number is =  5\n"
     ]
    }
   ],
   "source": [
    "listDemo2 = [1 , 2 , 3 , 4 , 5]\n",
    "largestElement = 0\n",
    "\n",
    "print(max(listDemo2))\n",
    "\n",
    "for i in listDemo2:\n",
    "    if i > largestElement:\n",
    "        largestElement = i\n",
    "\n",
    "print(\"The largest number is = \" , largestElement)\n"
   ]
  },
  {
   "cell_type": "markdown",
   "metadata": {},
   "source": [
    "### 03) WAP to find the length of a List."
   ]
  },
  {
   "cell_type": "code",
   "execution_count": 5,
   "metadata": {},
   "outputs": [
    {
     "name": "stdout",
     "output_type": "stream",
     "text": [
      "8\n"
     ]
    }
   ],
   "source": [
    "listDemo3 = [1 , 2 , 3 , 4 , 5 , 6 , 7 , 8]\n",
    "\n",
    "print(len(listDemo3))\n"
   ]
  },
  {
   "cell_type": "markdown",
   "metadata": {},
   "source": [
    "### 04) WAP to interchange first and last elements in a list."
   ]
  },
  {
   "cell_type": "code",
   "execution_count": 6,
   "metadata": {},
   "outputs": [
    {
     "name": "stdout",
     "output_type": "stream",
     "text": [
      "[8, 2, 3, 4, 5, 6, 7, 1]\n"
     ]
    }
   ],
   "source": [
    "l4= [1 , 2 , 3 , 4 , 5 , 6 , 7 , 8]\n",
    "l4[0],l4[-1]=l4[-1],l4[0]\n",
    "\n",
    "print(l4)"
   ]
  },
  {
   "cell_type": "markdown",
   "metadata": {},
   "source": [
    "### 05) WAP to split the List into two parts and append the first part to the end."
   ]
  },
  {
   "cell_type": "code",
   "execution_count": 12,
   "metadata": {},
   "outputs": [
    {
     "name": "stdout",
     "output_type": "stream",
     "text": [
      "[5, 6, 7, 8, 1, 2, 3, 4]\n"
     ]
    }
   ],
   "source": [
    "l5 = [1 , 2 , 3 , 4 , 5 , 6 , 7 , 8]\n",
    "\n",
    "part1 = l5[0 : int(len(l5)/2)]\n",
    "part2 = l5[int(len(l5)/2) : len(l5)]\n",
    "\n",
    "part2.extend(part1)\n",
    "\n",
    "print(part2)"
   ]
  },
  {
   "cell_type": "markdown",
   "metadata": {},
   "source": [
    "### 06) WAP to interchange the elements on two positions entered by a user."
   ]
  },
  {
   "cell_type": "code",
   "execution_count": 14,
   "metadata": {},
   "outputs": [
    {
     "name": "stdin",
     "output_type": "stream",
     "text": [
      "Enter the number 1 :  3\n",
      "Enter the number 2 :  7\n"
     ]
    },
    {
     "name": "stdout",
     "output_type": "stream",
     "text": [
      "[1, 2, 3, 8, 5, 6, 7, 4]\n"
     ]
    }
   ],
   "source": [
    "position1 = int(input(\"Enter the number 1 : \"))\n",
    "position2 = int(input(\"Enter the number 2 : \"))\n",
    "\n",
    "l6 = [1 , 2 , 3 , 4 , 5 , 6 , 7 , 8]\n",
    "\n",
    "l6[position1],l6[position2] = l6[position2],l6[position1]\n",
    "\n",
    "print(l6)\n"
   ]
  },
  {
   "cell_type": "markdown",
   "metadata": {},
   "source": [
    "### 07) WAP to reverse the list entered by user."
   ]
  },
  {
   "cell_type": "code",
   "execution_count": 19,
   "metadata": {},
   "outputs": [
    {
     "name": "stdin",
     "output_type": "stream",
     "text": [
      "Enter the length of the list :  8\n",
      "Enter the element of the list at the index 1:  1\n",
      "Enter the element of the list at the index 2:  2\n",
      "Enter the element of the list at the index 3:  3\n",
      "Enter the element of the list at the index 4:  4\n",
      "Enter the element of the list at the index 5:  5\n",
      "Enter the element of the list at the index 6:  6\n",
      "Enter the element of the list at the index 7:  7\n",
      "Enter the element of the list at the index 8:  8\n"
     ]
    },
    {
     "name": "stdout",
     "output_type": "stream",
     "text": [
      "[8, 7, 6, 5, 4, 3, 2, 1]\n"
     ]
    }
   ],
   "source": [
    "userList = []\n",
    "lengthOfList = int(input(\"Enter the length of the list : \"))\n",
    "\n",
    "for i in range(0 , lengthOfList):\n",
    "    userInput = int(input(f\"Enter the element of the list at the index {i + 1}: \"))\n",
    "    userList.append(userInput)\n",
    "\n",
    "userList = userList[::-1]\n",
    "\n",
    "print(userList)"
   ]
  },
  {
   "cell_type": "markdown",
   "metadata": {},
   "source": [
    "### 08) WAP to print even numbers in a list."
   ]
  },
  {
   "cell_type": "code",
   "execution_count": 22,
   "metadata": {},
   "outputs": [
    {
     "name": "stdout",
     "output_type": "stream",
     "text": [
      "[2, 4, 6, 8]\n"
     ]
    }
   ],
   "source": [
    "l8 = [1 , 2 , 3 , 4 , 5 , 6 , 7 , 8]\n",
    "\n",
    "l82 = [i for i in l8 if i%2 == 0]\n",
    "print(l82)"
   ]
  },
  {
   "cell_type": "markdown",
   "metadata": {},
   "source": [
    "### 09) WAP to count unique items in a list."
   ]
  },
  {
   "cell_type": "code",
   "execution_count": 26,
   "metadata": {},
   "outputs": [
    {
     "name": "stdout",
     "output_type": "stream",
     "text": [
      "5\n"
     ]
    }
   ],
   "source": [
    "l9 = [1 , 1 , 2 , 3 , 4 , 5 , 3 , 4 , 6 , 7 , 8]\n",
    "count = 0\n",
    "l92 = []\n",
    "\n",
    "for i in l9:\n",
    "    if l9.count(i) == 1:\n",
    "        count = count + 1\n",
    "\n",
    "print(count)"
   ]
  },
  {
   "cell_type": "markdown",
   "metadata": {},
   "source": [
    "### 10) WAP to copy a list."
   ]
  },
  {
   "cell_type": "code",
   "execution_count": 27,
   "metadata": {},
   "outputs": [
    {
     "name": "stdout",
     "output_type": "stream",
     "text": [
      "[1, 1, 2, 3, 4, 5, 3, 4, 6, 7, 8]\n"
     ]
    }
   ],
   "source": [
    "l9 = [1 , 1 , 2 , 3 , 4 , 5 , 3 , 4 , 6 , 7 , 8]\n",
    "\n",
    "l92 = l9.copy()\n",
    "\n",
    "print(l92)"
   ]
  },
  {
   "cell_type": "markdown",
   "metadata": {},
   "source": [
    "### 11) WAP to print all odd numbers in a given range."
   ]
  },
  {
   "cell_type": "code",
   "execution_count": 31,
   "metadata": {},
   "outputs": [
    {
     "name": "stdin",
     "output_type": "stream",
     "text": [
      "Enter the first length of the list :  2\n",
      "Enter the second length of the list 7\n"
     ]
    },
    {
     "name": "stdout",
     "output_type": "stream",
     "text": [
      "[3, 5]\n"
     ]
    }
   ],
   "source": [
    "l11 = [1 , 2 , 3 , 4 , 5 , 6 , 7 , 8]\n",
    "l112 = []\n",
    "\n",
    "firstRange = int(input(\"Enter the first length of the list : \"))\n",
    "secondRange = int(input(\"Enter the second length of the list\"))\n",
    "# l11[firstRange + 1 : secondRange]\n",
    "for i in range(firstRange , secondRange):\n",
    "    if i % 2 == 1:\n",
    "        l112.append(i)\n",
    "\n",
    "print(l112)\n",
    "        "
   ]
  },
  {
   "cell_type": "markdown",
   "metadata": {},
   "source": [
    "### 12) WAP to count occurrences of an element in a list."
   ]
  },
  {
   "cell_type": "code",
   "execution_count": 32,
   "metadata": {},
   "outputs": [
    {
     "name": "stdout",
     "output_type": "stream",
     "text": [
      "Count of 1 = 2\n",
      "Count of 2 = 1\n",
      "Count of 3 = 2\n",
      "Count of 4 = 2\n",
      "Count of 5 = 1\n",
      "Count of 6 = 1\n",
      "Count of 7 = 1\n",
      "Count of 8 = 1\n"
     ]
    }
   ],
   "source": [
    "l12 = [1 , 1 , 2 , 3 , 4 , 5 , 3 , 4 , 6 , 7 , 8]\n",
    "temp = []\n",
    "\n",
    "for i in l12:\n",
    "    if i not in temp:\n",
    "        print(f\"Count of {i} = {l12.count(i)}\")\n",
    "        temp.append(i)"
   ]
  },
  {
   "cell_type": "markdown",
   "metadata": {},
   "source": [
    "### 13) WAP to find second largest number in a list."
   ]
  },
  {
   "cell_type": "code",
   "execution_count": 41,
   "metadata": {},
   "outputs": [
    {
     "name": "stdout",
     "output_type": "stream",
     "text": [
      "7\n"
     ]
    }
   ],
   "source": [
    "l13 = [1 , 1 , 2 , 3 , 4 , 5 , 3 , 4 , 6 , 7 ,8 ,8 , 8 , 8]\n",
    "\n",
    "sorted(l13)\n",
    "\n",
    "countLast = l13.count(l13[-1])\n",
    "\n",
    "secondLargest = l13[len(l13) - countLast - 1]\n",
    "print(secondLargest)"
   ]
  },
  {
   "cell_type": "markdown",
   "metadata": {},
   "source": [
    "### 14) WAP to extract elements with frequency greater than K."
   ]
  },
  {
   "cell_type": "code",
   "execution_count": 44,
   "metadata": {},
   "outputs": [
    {
     "name": "stdin",
     "output_type": "stream",
     "text": [
      "Enter the frequency :  1\n"
     ]
    },
    {
     "name": "stdout",
     "output_type": "stream",
     "text": [
      "1\n",
      "3\n",
      "4\n",
      "8\n"
     ]
    }
   ],
   "source": [
    "l14 = [1 , 1 , 2 , 3 , 4 , 5 , 3 , 4 , 6 , 7 ,8 ,8 , 8 , 8]\n",
    "frequency = int(input(\"Enter the frequency : \"))\n",
    "l142 = []\n",
    "\n",
    "\n",
    "for i in l14:\n",
    "    if l14.count(i) > frequency and i not in l142:\n",
    "        print(i)\n",
    "        l142.append(i)"
   ]
  },
  {
   "cell_type": "markdown",
   "metadata": {},
   "source": [
    "### 15) WAP to create a list of squared numbers from 0 to 9 with and without using List Comprehension."
   ]
  },
  {
   "cell_type": "code",
   "execution_count": 46,
   "metadata": {},
   "outputs": [
    {
     "name": "stdout",
     "output_type": "stream",
     "text": [
      "[1, 4, 9, 16, 25, 36, 49, 64, 81]\n"
     ]
    }
   ],
   "source": [
    "l15 = [i ** 2 for i in range(1 , 10)]\n",
    "print(l15)"
   ]
  },
  {
   "cell_type": "code",
   "execution_count": 47,
   "metadata": {},
   "outputs": [
    {
     "name": "stdout",
     "output_type": "stream",
     "text": [
      "[1, 4, 9, 16, 25, 36, 49, 64, 81]\n"
     ]
    }
   ],
   "source": [
    "l152 = []\n",
    "\n",
    "for i in range(1 , 10):\n",
    "    l152.append(i ** 2)\n",
    "\n",
    "print(l152)"
   ]
  },
  {
   "cell_type": "markdown",
   "metadata": {},
   "source": [
    "### 16) WAP to create a new list (fruit whose name starts with 'b') from the list of fruits given by user."
   ]
  },
  {
   "cell_type": "code",
   "execution_count": 49,
   "metadata": {},
   "outputs": [
    {
     "name": "stdout",
     "output_type": "stream",
     "text": [
      "['Banana', 'Black-berry']\n"
     ]
    }
   ],
   "source": [
    "l16 = ['Apple' , 'Banana' , 'grapes' , 'Black-berry' , 'mango']\n",
    "\n",
    "l162 = [i for i in l16 if i[0] == 'B']\n",
    "print(l162)"
   ]
  },
  {
   "cell_type": "code",
   "execution_count": 50,
   "metadata": {},
   "outputs": [
    {
     "name": "stdout",
     "output_type": "stream",
     "text": [
      "['Banana', 'Black-berry']\n"
     ]
    }
   ],
   "source": [
    "l163 = ['Apple' , 'Banana' , 'grapes' , 'Black-berry' , 'mango']\n",
    "l164 = []\n",
    "\n",
    "for i in l163:\n",
    "    if(i[0] == 'B'):\n",
    "        l164.append(i)\n",
    "\n",
    "print(l164)"
   ]
  },
  {
   "cell_type": "markdown",
   "metadata": {},
   "source": [
    "### 17) WAP to create a list of common elements from given two lists."
   ]
  },
  {
   "cell_type": "code",
   "execution_count": 54,
   "metadata": {},
   "outputs": [
    {
     "name": "stdout",
     "output_type": "stream",
     "text": [
      "{1, 3, 5, 7, 9}\n"
     ]
    }
   ],
   "source": [
    "l1 = [1 , 2 , 3 , 4 , 5 , 6 , 7 , 8 , 9 , 0 , 9 , 9]\n",
    "l2 = [1 , 3 , 5 , 7 , 9 , 9]\n",
    "l3 = []\n",
    "\n",
    "for i in l1:\n",
    "    if i in l2:\n",
    "        l3.append(i)\n",
    "\n",
    "print(set(l3))"
   ]
  },
  {
   "cell_type": "code",
   "execution_count": 55,
   "metadata": {},
   "outputs": [
    {
     "name": "stdout",
     "output_type": "stream",
     "text": [
      "{1, 3, 5, 7, 9}\n"
     ]
    }
   ],
   "source": [
    "l1 = [1 , 2 , 3 , 4 , 5 , 6 , 7 , 8 , 9 , 0 , 9 , 9]\n",
    "l2 = [1 , 3 , 5 , 7 , 9]\n",
    "\n",
    "l17 = [i for i in l1 if i in l2]\n",
    "print(set(l17))"
   ]
  },
  {
   "cell_type": "code",
   "execution_count": null,
   "metadata": {},
   "outputs": [],
   "source": []
  }
 ],
 "metadata": {
  "kernelspec": {
   "display_name": "Python 3 (ipykernel)",
   "language": "python",
   "name": "python3"
  },
  "language_info": {
   "codemirror_mode": {
    "name": "ipython",
    "version": 3
   },
   "file_extension": ".py",
   "mimetype": "text/x-python",
   "name": "python",
   "nbconvert_exporter": "python",
   "pygments_lexer": "ipython3",
   "version": "3.13.1"
  }
 },
 "nbformat": 4,
 "nbformat_minor": 4
}
