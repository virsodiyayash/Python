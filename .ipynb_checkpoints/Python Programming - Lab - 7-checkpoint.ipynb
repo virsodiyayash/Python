{
 "cells": [
  {
   "cell_type": "markdown",
   "metadata": {},
   "source": [
    "<a href='https://www.darshan.ac.in/'> <img src='https://www.darshan.ac.in/Content/media/DU_Logo.svg' width=\"250\" height=\"300\"/></a>\n",
    "<pre>\n",
    "<center><b><h1>Python Programming - 2301CS404</b></center>\n",
    "<center><b><h1>Lab - 7</b></center>    \n",
    "<pre>"
   ]
  },
  {
   "cell_type": "markdown",
   "metadata": {},
   "source": [
    "# Set & Dictionary"
   ]
  },
  {
   "cell_type": "markdown",
   "metadata": {},
   "source": [
    "### 01) WAP to iterate over a set."
   ]
  },
  {
   "cell_type": "code",
   "execution_count": 13,
   "metadata": {},
   "outputs": [
    {
     "name": "stdout",
     "output_type": "stream",
     "text": [
      "0 1 2 3 4 5 6 7 8 9 "
     ]
    }
   ],
   "source": [
    "s1 = {1 , 2 , 3 , 4 , 5 , 6 , 7 , 8 , 9 , 0}\n",
    "\n",
    "for i in s1:\n",
    "    print(i , end = \" \")"
   ]
  },
  {
   "cell_type": "markdown",
   "metadata": {},
   "source": [
    "### 02) WAP to convert set into list, string and tuple."
   ]
  },
  {
   "cell_type": "code",
   "execution_count": 14,
   "metadata": {},
   "outputs": [
    {
     "name": "stdout",
     "output_type": "stream",
     "text": [
      "[0, 1, 2, 3, 4, 5, 6, 7, 8, 9]\n",
      "(0, 1, 2, 3, 4, 5, 6, 7, 8, 9)\n",
      "0 1 2 3 4 5 6 7 8 9 \n"
     ]
    }
   ],
   "source": [
    "s2 = {1 , 2 , 3 , 4 , 5 , 6 , 7 , 8 , 9 , 0}\n",
    "ans = ''\n",
    "\n",
    "for i in s2:\n",
    "    ans = ans + str(i) + \" \"\n",
    "    \n",
    "print(list(s2))\n",
    "print(tuple(s2))\n",
    "print(ans)\n"
   ]
  },
  {
   "cell_type": "markdown",
   "metadata": {},
   "source": [
    "### 03) WAP to find Maximum and Minimum from a set."
   ]
  },
  {
   "cell_type": "code",
   "execution_count": 15,
   "metadata": {},
   "outputs": [
    {
     "name": "stdout",
     "output_type": "stream",
     "text": [
      "Maximum is =  9\n",
      "Minimum is =  0\n"
     ]
    }
   ],
   "source": [
    "s3 = {1 , 2 , 3 , 4 , 5 , 6 , 7 , 8 , 9 , 0}\n",
    "\n",
    "maximum = max(s3)\n",
    "minimum = min(s3)\n",
    "\n",
    "print(\"Maximum is = \" , maximum)\n",
    "print(\"Minimum is = \" , minimum)"
   ]
  },
  {
   "cell_type": "markdown",
   "metadata": {},
   "source": [
    "### 04) WAP to perform union of two sets."
   ]
  },
  {
   "cell_type": "code",
   "execution_count": 16,
   "metadata": {},
   "outputs": [
    {
     "name": "stdout",
     "output_type": "stream",
     "text": [
      "{0, 1, 2, 3, 4, 5, 6, 7, 8, 9}\n"
     ]
    }
   ],
   "source": [
    "s4 = {1 , 2 , 3 , 4 , 5}\n",
    "s5 = {6 , 7 , 8 , 9 , 0}\n",
    "\n",
    "unionOfSet = s4.union(s5)\n",
    "print(unionOfSet)"
   ]
  },
  {
   "cell_type": "markdown",
   "metadata": {},
   "source": [
    "### 05) WAP to check if two lists have at-least one element common."
   ]
  },
  {
   "cell_type": "code",
   "execution_count": 21,
   "metadata": {},
   "outputs": [
    {
     "name": "stdout",
     "output_type": "stream",
     "text": [
      "None\n"
     ]
    }
   ],
   "source": [
    "l1 = [1 , 2 , 3 , 4 , 5 , 8]\n",
    "l2 = [6 , 7 , 9 , 0]\n",
    "\n",
    "print(True if set(l1).intersection(set(l2)) else None)"
   ]
  },
  {
   "cell_type": "markdown",
   "metadata": {},
   "source": [
    "### 06) WAP to remove duplicates from list."
   ]
  },
  {
   "cell_type": "code",
   "execution_count": 22,
   "metadata": {},
   "outputs": [
    {
     "name": "stdout",
     "output_type": "stream",
     "text": [
      "{0, 1, 2, 3, 4, 5, 6, 7, 8, 9}\n"
     ]
    }
   ],
   "source": [
    "l6 = [1, 2 , 3 , 4 , 5 , 4 , 3 , 6 , 7 , 8 , 9 , 0 , 6]\n",
    "print(set(l6))"
   ]
  },
  {
   "cell_type": "markdown",
   "metadata": {},
   "source": [
    "### 07) WAP to find unique words in the given string."
   ]
  },
  {
   "cell_type": "code",
   "execution_count": 24,
   "metadata": {},
   "outputs": [
    {
     "name": "stdin",
     "output_type": "stream",
     "text": [
      "Enter Words :  hiii hello kem chho\n"
     ]
    },
    {
     "name": "stdout",
     "output_type": "stream",
     "text": [
      "Unique words are :  {'kem', 'hello', 'hiii', 'chho'}\n"
     ]
    }
   ],
   "source": [
    "s7 = set(input(\"Enter Words : \").split())\n",
    "print(\"Unique words are : \",s7)"
   ]
  },
  {
   "cell_type": "markdown",
   "metadata": {},
   "source": [
    "### 08) WAP to remove common elements of set A & B from set A."
   ]
  },
  {
   "cell_type": "code",
   "execution_count": 26,
   "metadata": {},
   "outputs": [
    {
     "name": "stdout",
     "output_type": "stream",
     "text": [
      "{3, 4, 5, 6}\n"
     ]
    }
   ],
   "source": [
    "s8 = {1 , 2 , 3 , 4 , 5 , 6}\n",
    "s9 = {1 , 2 , 7 , 8 , 9 , 0}\n",
    "\n",
    "print(s8.difference(s9))"
   ]
  },
  {
   "cell_type": "markdown",
   "metadata": {},
   "source": [
    "### 09) WAP to check whether two given strings are anagram or not using set."
   ]
  },
  {
   "cell_type": "code",
   "execution_count": 45,
   "metadata": {},
   "outputs": [
    {
     "name": "stdin",
     "output_type": "stream",
     "text": [
      "Enter the string 1 :  abc\n",
      "Enter the string 2 :  abc\n"
     ]
    },
    {
     "name": "stdout",
     "output_type": "stream",
     "text": [
      "String is anagram\n"
     ]
    }
   ],
   "source": [
    "str1 = input(\"Enter the string 1 : \")\n",
    "str2 = input(\"Enter the string 2 : \")\n",
    "flag = False\n",
    "\n",
    "if set(str1)==set(str2) and sorted(str1) == sorted(str2):\n",
    "    flag = True\n",
    "\n",
    "if(flag):\n",
    "    print(\"String is anagram\")\n",
    "else:\n",
    "    print(\"String is not anagram\")\n",
    "\n"
   ]
  },
  {
   "cell_type": "markdown",
   "metadata": {},
   "source": [
    "### 10) WAP to find common elements in three lists using set."
   ]
  },
  {
   "cell_type": "code",
   "execution_count": 30,
   "metadata": {},
   "outputs": [
    {
     "name": "stdout",
     "output_type": "stream",
     "text": [
      "{1, 6}\n"
     ]
    }
   ],
   "source": [
    "list1 = [1 , 2 , 3 , 4 , 5 , 6]\n",
    "list2 = [1 , 2 , 6 , 7]\n",
    "list3 = [1 , 8 , 9 , 0 , 6]\n",
    "\n",
    "s10 = set(set(list1).intersection(set(list2)).intersection(set(list3)))\n",
    "print(s10)"
   ]
  },
  {
   "cell_type": "markdown",
   "metadata": {},
   "source": [
    "### 11) WAP to count number of vowels in given string using set."
   ]
  },
  {
   "cell_type": "code",
   "execution_count": 32,
   "metadata": {},
   "outputs": [
    {
     "name": "stdin",
     "output_type": "stream",
     "text": [
      "Enter String :  hello how are you\n"
     ]
    },
    {
     "name": "stdout",
     "output_type": "stream",
     "text": [
      "7\n"
     ]
    }
   ],
   "source": [
    "s11 = input(\"Enter String : \")\n",
    "v = set(\"aeiouAEIOU\")\n",
    "count = 0\n",
    "\n",
    "for i in s11:\n",
    "    if i in v:\n",
    "        count += 1\n",
    "\n",
    "print(count)"
   ]
  },
  {
   "cell_type": "markdown",
   "metadata": {},
   "source": [
    "### 12) WAP to check if a given string is binary string or not."
   ]
  },
  {
   "cell_type": "code",
   "execution_count": 35,
   "metadata": {},
   "outputs": [
    {
     "name": "stdin",
     "output_type": "stream",
     "text": [
      "Enter the string :  010101001122\n"
     ]
    },
    {
     "name": "stdout",
     "output_type": "stream",
     "text": [
      "Not Binary\n"
     ]
    }
   ],
   "source": [
    "s12 = ('01')\n",
    "strbin = input(\"Enter the string : \")\n",
    "flag = True\n",
    "\n",
    "for i in strbin:\n",
    "    if i not in s12:\n",
    "        flag = False\n",
    "        break\n",
    "\n",
    "print('Binary' if flag else 'Not Binary')"
   ]
  },
  {
   "cell_type": "markdown",
   "metadata": {},
   "source": [
    "### 13) WAP to sort dictionary by key or value."
   ]
  },
  {
   "cell_type": "code",
   "execution_count": 39,
   "metadata": {},
   "outputs": [
    {
     "name": "stdout",
     "output_type": "stream",
     "text": [
      "{'a': 2, 'c': 2, 'd': 11, 'n': 1}\n",
      "{'n': 1, 'a': 2, 'c': 2, 'd': 11}\n"
     ]
    }
   ],
   "source": [
    "d13 = {'n' : 1 , 'a' : 2 , 'c' : 2 , 'd' : 11}\n",
    "print(dict(sorted(d13.items())))\n",
    "print(dict(sorted(d13.items(),key=lambda item : item[1])))\n"
   ]
  },
  {
   "cell_type": "markdown",
   "metadata": {},
   "source": [
    "### 14) WAP to find the sum of all items (values) in a dictionary given by user. (Assume: values are numeric)"
   ]
  },
  {
   "cell_type": "code",
   "execution_count": 40,
   "metadata": {},
   "outputs": [
    {
     "name": "stdout",
     "output_type": "stream",
     "text": [
      "The sum is =  16\n"
     ]
    }
   ],
   "source": [
    "d14 = {'n' : 1 , 'a' : 2 , 'c' : 2 , 'd' : 11}\n",
    "sum = 0;\n",
    "\n",
    "for i in d14.values():\n",
    "    sum = sum + i\n",
    "\n",
    "print(\"The sum is = \" , sum)\n",
    "    \n",
    "    "
   ]
  },
  {
   "cell_type": "markdown",
   "metadata": {},
   "source": [
    "### 15) WAP to handle missing keys in dictionaries.\n",
    "#### Example : Given, dict1 = {'a': 5, 'c': 8, 'e': 2} \n",
    "#### if you look for key = 'd', the message given should be 'Key Not Found', otherwise print the value of 'd' in dict1."
   ]
  },
  {
   "cell_type": "code",
   "execution_count": 44,
   "metadata": {},
   "outputs": [
    {
     "name": "stdin",
     "output_type": "stream",
     "text": [
      "Enter the key :  n\n"
     ]
    },
    {
     "name": "stdout",
     "output_type": "stream",
     "text": [
      "1\n"
     ]
    }
   ],
   "source": [
    "d14 = {'n' : 1 , 'a' : 2 , 'c' : 2 , 'd' : 11}\n",
    "keyOfDict = input(\"Enter the key : \")\n",
    "\n",
    "print('Key not found' if d14.get(keyOfDict)==None else d14[keyOfDict])\n",
    " "
   ]
  },
  {
   "cell_type": "code",
   "execution_count": null,
   "metadata": {},
   "outputs": [],
   "source": []
  }
 ],
 "metadata": {
  "kernelspec": {
   "display_name": "Python 3 (ipykernel)",
   "language": "python",
   "name": "python3"
  },
  "language_info": {
   "codemirror_mode": {
    "name": "ipython",
    "version": 3
   },
   "file_extension": ".py",
   "mimetype": "text/x-python",
   "name": "python",
   "nbconvert_exporter": "python",
   "pygments_lexer": "ipython3",
   "version": "3.13.1"
  }
 },
 "nbformat": 4,
 "nbformat_minor": 4
}
