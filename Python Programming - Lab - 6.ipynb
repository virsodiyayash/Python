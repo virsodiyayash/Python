{
 "cells": [
  {
   "cell_type": "markdown",
   "metadata": {},
   "source": [
    "<a href='https://www.darshan.ac.in/'> <img src='https://www.darshan.ac.in/Content/media/DU_Logo.svg' width=\"250\" height=\"300\"/></a>\n",
    "<pre>\n",
    "<center><b><h1>Python Programming - 2301CS404</b></center>\n",
    "<center><b><h1>Lab - 6</b></center>    \n",
    "<pre>"
   ]
  },
  {
   "cell_type": "markdown",
   "metadata": {},
   "source": [
    "# Tuple"
   ]
  },
  {
   "cell_type": "markdown",
   "metadata": {},
   "source": [
    "### 01) WAP to find sum of tuple elements."
   ]
  },
  {
   "cell_type": "code",
   "execution_count": 2,
   "metadata": {},
   "outputs": [
    {
     "name": "stdout",
     "output_type": "stream",
     "text": [
      "The sum of tuple elements = 15\n"
     ]
    }
   ],
   "source": [
    "t1 = (1,2,3,4,5)\n",
    "print(f\"The sum of tuple elements = {sum(t1)}\")"
   ]
  },
  {
   "cell_type": "markdown",
   "metadata": {},
   "source": [
    "### 02) WAP to find Maximum and Minimum K elements in a given tuple."
   ]
  },
  {
   "cell_type": "code",
   "execution_count": null,
   "metadata": {},
   "outputs": [
    {
     "name": "stdout",
     "output_type": "stream",
     "text": [
      "Maximum 3 elements : [7, 8, 9]\n",
      "Minimum 3 elements : [0, 1, 2]\n"
     ]
    }
   ],
   "source": [
    "t2 = (1,2,3,4,5,6,7,8,9,0)\n",
    "k = int(input(\"Enter value of k : \"))\n",
    "t2 = sorted(t2)\n",
    "print(f\"Maximum {k} elements : {t2[-(k):]}\")\n",
    "print(f\"Minimum {k} elements : {t2[:k]}\")"
   ]
  },
  {
   "cell_type": "markdown",
   "metadata": {},
   "source": [
    "### 03) WAP to find tuples which have all elements divisible by K from a list of tuples."
   ]
  },
  {
   "cell_type": "code",
   "execution_count": 3,
   "metadata": {},
   "outputs": [
    {
     "name": "stdout",
     "output_type": "stream",
     "text": [
      "Enter value of k : 1\n",
      "(1, 2, 3)\n",
      "(4, 8, 6)\n",
      "(7, 8, 9, 0)\n"
     ]
    }
   ],
   "source": [
    "t3 = [(1,2,3),(4,8,6),(7,8,9,0)]\n",
    "k = int(input(\"Enter value of k : \"))\n",
    "for i in t3:\n",
    "    temp = True\n",
    "    for j in i:\n",
    "        if j%k!=0:\n",
    "            temp = False\n",
    "            break\n",
    "    if temp:\n",
    "        print(i)"
   ]
  },
  {
   "cell_type": "markdown",
   "metadata": {},
   "source": [
    "### 04) WAP to create a list of tuples from given list having number and its cube in each tuple."
   ]
  },
  {
   "cell_type": "code",
   "execution_count": 4,
   "metadata": {},
   "outputs": [
    {
     "name": "stdout",
     "output_type": "stream",
     "text": [
      "[(1, 1), (2, 8), (3, 27), (4, 64), (5, 125), (6, 216), (7, 343), (8, 512), (9, 729)]\n"
     ]
    }
   ],
   "source": [
    "t4 = [,2,3,4,5,6,7,8,9]\n",
    "ans4 = list((i,i**3) for i in t4)\n",
    "print(ans4)"
   ]
  },
  {
   "cell_type": "markdown",
   "metadata": {},
   "source": [
    "### 05) WAP to find tuples with all positive elements from the given list of tuples."
   ]
  },
  {
   "cell_type": "code",
   "execution_count": 6,
   "metadata": {},
   "outputs": [
    {
     "name": "stdout",
     "output_type": "stream",
     "text": [
      "(4, 8, 6)\n"
     ]
    }
   ],
   "source": [
    "t5 = [(1,-2,3),(4,8,6),(7,-8,9,0)]\n",
    "for i in t5:\n",
    "    temp = True\n",
    "    for j in i:\n",
    "        if j<0:\n",
    "            temp = False\n",
    "            break\n",
    "    if temp:\n",
    "        print(i)"
   ]
  },
  {
   "cell_type": "markdown",
   "metadata": {},
   "source": [
    "### 06) WAP to add tuple to list and vice – versa."
   ]
  },
  {
   "cell_type": "code",
   "execution_count": 36,
   "metadata": {},
   "outputs": [
    {
     "name": "stdout",
     "output_type": "stream",
     "text": [
      "Add list to tuple : [6, 7, 8, 9, 0, 1, 2, 3, 4, 5]\n",
      "Add tuple to list : (1, 2, 3, 4, 5, 6, 7, 8, 9, 0)\n"
     ]
    }
   ],
   "source": [
    "t6 = (1,2,3,4,5)\n",
    "l6 = [6,7,8,9,0]\n",
    "l6 += t6\n",
    "print(f\"Add list to tuple : {l6}\")\n",
    "t6 = (1,2,3,4,5)\n",
    "l6 = [6,7,8,9,0]\n",
    "t6 = tuple(list(t6)+l6)\n",
    "print(f\"Add tuple to list : {t6}\")"
   ]
  },
  {
   "cell_type": "markdown",
   "metadata": {},
   "source": [
    "### 07) WAP to remove tuples of length K."
   ]
  },
  {
   "cell_type": "code",
   "execution_count": 14,
   "metadata": {},
   "outputs": [
    {
     "name": "stdout",
     "output_type": "stream",
     "text": [
      "Enter value of k between : 2\n",
      "[(3, 4, 5), (6, 7, 8)]\n"
     ]
    }
   ],
   "source": [
    "t7 = [(1,2),(3,4,5),(6,7,8),(9,0)]\n",
    "k = int(input(\"Enter value of k : \"))\n",
    "t7 = list(i for i in t7 if len(i)!=k)\n"
   ]
  },
  {
   "cell_type": "markdown",
   "metadata": {},
   "source": [
    "### 08) WAP to remove duplicates from tuple."
   ]
  },
  {
   "cell_type": "code",
   "execution_count": 27,
   "metadata": {},
   "outputs": [
    {
     "name": "stdout",
     "output_type": "stream",
     "text": [
      "(1, 4, 2, 3, 5, 7)\n"
     ]
    }
   ],
   "source": [
    "t8 = (1,2,3,4,5,2,3,5,7)\n",
    "t8 = list(t8)\n",
    "for i in t8:\n",
    "    if t8.count(i)>1:\n",
    "        t8.remove(i)\n",
    "t8 = tuple(t8)\n",
    "print(t8)"
   ]
  },
  {
   "cell_type": "markdown",
   "metadata": {},
   "source": [
    "### 09) WAP to multiply adjacent elements of a tuple and print that resultant tuple."
   ]
  },
  {
   "cell_type": "code",
   "execution_count": 15,
   "metadata": {},
   "outputs": [
    {
     "name": "stdout",
     "output_type": "stream",
     "text": [
      "[14, 42, 24, 60, 20]\n"
     ]
    }
   ],
   "source": [
    "t9 = (7,2,3,4,5)\n",
    "ans9 = []\n",
    "ans9.append(t9[0]*t9[1])\n",
    "ans9.extend(t9[i]*t9[i+1]*t9[i-1] for i in range(1,len(t9)-1))\n",
    "ans9.append(t9[len(t9)-2]*t9[len(t9)-1])\n",
    "print(ans9)"
   ]
  },
  {
   "cell_type": "markdown",
   "metadata": {},
   "source": [
    "### 10) WAP to test if the given tuple is distinct or not."
   ]
  },
  {
   "cell_type": "code",
   "execution_count": 25,
   "metadata": {},
   "outputs": [
    {
     "name": "stdout",
     "output_type": "stream",
     "text": [
      "Not Distinct\n"
     ]
    }
   ],
   "source": [
    "t10 = (1,2,3,4,5,1)\n",
    "flag = True\n",
    "for i in t10:\n",
    "    if t10.count(i)>1:\n",
    "        flag = False\n",
    "print('Distinct' if flag else 'Not Distinct')"
   ]
  }
 ],
 "metadata": {
  "kernelspec": {
   "display_name": "Python 3 (ipykernel)",
   "language": "python",
   "name": "python3"
  },
  "language_info": {
   "codemirror_mode": {
    "name": "ipython",
    "version": 3
   },
   "file_extension": ".py",
   "mimetype": "text/x-python",
   "name": "python",
   "nbconvert_exporter": "python",
   "pygments_lexer": "ipython3",
   "version": "3.10.9"
  }
 },
 "nbformat": 4,
 "nbformat_minor": 4
}
